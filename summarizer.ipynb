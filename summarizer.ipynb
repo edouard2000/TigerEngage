{
 "cells": [
  {
   "cell_type": "code",
   "execution_count": 1,
   "metadata": {},
   "outputs": [
    {
     "name": "stdout",
     "output_type": "stream",
     "text": [
      "Requirement already satisfied: openai in c:\\users\\ashle\\appdata\\local\\programs\\python\\python311\\lib\\site-packages (1.16.1)\n",
      "Requirement already satisfied: anyio<5,>=3.5.0 in c:\\users\\ashle\\appdata\\local\\programs\\python\\python311\\lib\\site-packages (from openai) (4.3.0)\n",
      "Requirement already satisfied: distro<2,>=1.7.0 in c:\\users\\ashle\\appdata\\local\\programs\\python\\python311\\lib\\site-packages (from openai) (1.9.0)\n",
      "Requirement already satisfied: httpx<1,>=0.23.0 in c:\\users\\ashle\\appdata\\local\\programs\\python\\python311\\lib\\site-packages (from openai) (0.27.0)\n",
      "Requirement already satisfied: pydantic<3,>=1.9.0 in c:\\users\\ashle\\appdata\\local\\programs\\python\\python311\\lib\\site-packages (from openai) (2.6.4)\n",
      "Requirement already satisfied: sniffio in c:\\users\\ashle\\appdata\\local\\programs\\python\\python311\\lib\\site-packages (from openai) (1.3.1)\n",
      "Requirement already satisfied: tqdm>4 in c:\\users\\ashle\\appdata\\local\\programs\\python\\python311\\lib\\site-packages (from openai) (4.66.2)\n",
      "Requirement already satisfied: typing-extensions<5,>=4.7 in c:\\users\\ashle\\appdata\\local\\programs\\python\\python311\\lib\\site-packages (from openai) (4.10.0)\n",
      "Requirement already satisfied: idna>=2.8 in c:\\users\\ashle\\appdata\\local\\programs\\python\\python311\\lib\\site-packages (from anyio<5,>=3.5.0->openai) (3.6)\n",
      "Requirement already satisfied: certifi in c:\\users\\ashle\\appdata\\local\\programs\\python\\python311\\lib\\site-packages (from httpx<1,>=0.23.0->openai) (2024.2.2)\n",
      "Requirement already satisfied: httpcore==1.* in c:\\users\\ashle\\appdata\\local\\programs\\python\\python311\\lib\\site-packages (from httpx<1,>=0.23.0->openai) (1.0.5)\n",
      "Requirement already satisfied: h11<0.15,>=0.13 in c:\\users\\ashle\\appdata\\local\\programs\\python\\python311\\lib\\site-packages (from httpcore==1.*->httpx<1,>=0.23.0->openai) (0.14.0)\n",
      "Requirement already satisfied: annotated-types>=0.4.0 in c:\\users\\ashle\\appdata\\local\\programs\\python\\python311\\lib\\site-packages (from pydantic<3,>=1.9.0->openai) (0.6.0)\n",
      "Requirement already satisfied: pydantic-core==2.16.3 in c:\\users\\ashle\\appdata\\local\\programs\\python\\python311\\lib\\site-packages (from pydantic<3,>=1.9.0->openai) (2.16.3)\n",
      "Requirement already satisfied: colorama in c:\\users\\ashle\\appdata\\local\\programs\\python\\python311\\lib\\site-packages (from tqdm>4->openai) (0.4.6)\n"
     ]
    },
    {
     "name": "stderr",
     "output_type": "stream",
     "text": [
      "\n",
      "[notice] A new release of pip is available: 23.2.1 -> 24.0\n",
      "[notice] To update, run: python.exe -m pip install --upgrade pip\n"
     ]
    },
    {
     "name": "stdout",
     "output_type": "stream",
     "text": [
      "Collecting python-dotenv\n",
      "  Obtaining dependency information for python-dotenv from https://files.pythonhosted.org/packages/6a/3e/b68c118422ec867fa7ab88444e1274aa40681c606d59ac27de5a5588f082/python_dotenv-1.0.1-py3-none-any.whl.metadata\n",
      "  Downloading python_dotenv-1.0.1-py3-none-any.whl.metadata (23 kB)\n",
      "Downloading python_dotenv-1.0.1-py3-none-any.whl (19 kB)\n",
      "Installing collected packages: python-dotenv\n",
      "Successfully installed python-dotenv-1.0.1\n"
     ]
    },
    {
     "name": "stderr",
     "output_type": "stream",
     "text": [
      "\n",
      "[notice] A new release of pip is available: 23.2.1 -> 24.0\n",
      "[notice] To update, run: python.exe -m pip install --upgrade pip\n"
     ]
    }
   ],
   "source": [
    "!pip install --upgrade openai\n",
    "!pip install python-dotenv"
   ]
  },
  {
   "cell_type": "code",
   "execution_count": 2,
   "metadata": {},
   "outputs": [],
   "source": [
    "from openai import OpenAI\n",
    "import os"
   ]
  },
  {
   "cell_type": "code",
   "execution_count": 3,
   "metadata": {},
   "outputs": [
    {
     "name": "stdout",
     "output_type": "stream",
     "text": [
      "ChatCompletionMessage(content=\"In the realm of code, a concept strange and profound,\\nLies recursion, a technique where beauty is found.\\nLike a mirror reflecting itself in endless array,\\nRecursion in programming echoes in a similar way.\\n\\nA function, enchanted with a magical twist,\\nCalls upon itself, a loop that cannot resist.\\nThrough layers of abstraction, it travels deep,\\nA journey of self-replication, a promise to keep.\\n\\nAs each call returns, a piece of the puzzle solved,\\nRecursion unfolds, mystery and wonder evolved.\\nA dance of self-reference, an infinite loop's delight,\\nIn the tapestry of coding, a mesmerizing sight.\\n\\nBut beware, oh programmer, in recursion's glance,\\nFor with great power comes a risk, a dangerous chance.\\nStack overflow looms, a perilous fate,\\nToo many calls, a burden too great.\\n\\nYet when wielded with mastery, a tool of great skill,\\nRecursion unlocks problems, yielding results that thrill.\\nSo embrace this concept with wisdom and grace,\\nAnd let the beauty of recursion brighten your code's face.\", role='assistant', function_call=None, tool_calls=None)\n"
     ]
    }
   ],
   "source": [
    "# Instantiate a client to ChatGPT and grab the API key from the .env file\n",
    "from dotenv import load_dotenv\n",
    "\n",
    "load_dotenv()\n",
    "\n",
    "client = OpenAI(\n",
    "    api_key=os.getenv(\"OPENAI_API_KEY\")\n",
    ")\n",
    "\n",
    "completion = client.chat.completions.create(\n",
    "  model=\"gpt-3.5-turbo\",\n",
    "  messages=[\n",
    "    {\"role\": \"system\", \"content\": \"You are a poetic assistant, skilled in explaining complex programming concepts with creative flair.\"},\n",
    "    {\"role\": \"user\", \"content\": \"Compose a poem that explains the concept of recursion in programming.\"}\n",
    "  ]\n",
    ")\n",
    "\n",
    "print(completion.choices[0].message)"
   ]
  },
  {
   "cell_type": "code",
   "execution_count": 4,
   "metadata": {},
   "outputs": [
    {
     "name": "stdout",
     "output_type": "stream",
     "text": [
      "In the realm of code, a concept strange and profound,\n",
      "Lies recursion, a technique where beauty is found.\n",
      "Like a mirror reflecting itself in endless array,\n",
      "Recursion in programming echoes in a similar way.\n",
      "\n",
      "A function, enchanted with a magical twist,\n",
      "Calls upon itself, a loop that cannot resist.\n",
      "Through layers of abstraction, it travels deep,\n",
      "A journey of self-replication, a promise to keep.\n",
      "\n",
      "As each call returns, a piece of the puzzle solved,\n",
      "Recursion unfolds, mystery and wonder evolved.\n",
      "A dance of self-reference, an infinite loop's delight,\n",
      "In the tapestry of coding, a mesmerizing sight.\n",
      "\n",
      "But beware, oh programmer, in recursion's glance,\n",
      "For with great power comes a risk, a dangerous chance.\n",
      "Stack overflow looms, a perilous fate,\n",
      "Too many calls, a burden too great.\n",
      "\n",
      "Yet when wielded with mastery, a tool of great skill,\n",
      "Recursion unlocks problems, yielding results that thrill.\n",
      "So embrace this concept with wisdom and grace,\n",
      "And let the beauty of recursion brighten your code's face.\n"
     ]
    }
   ],
   "source": [
    "print(completion.choices[0].message.content)\n"
   ]
  },
  {
   "cell_type": "code",
   "execution_count": 5,
   "metadata": {},
   "outputs": [],
   "source": [
    "# Close the client after the above test\n",
    "client.close()"
   ]
  },
  {
   "cell_type": "code",
   "execution_count": 6,
   "metadata": {},
   "outputs": [],
   "source": [
    "class TextSummarizer:\n",
    "\n",
    "    # ChatGPT model that we will be using everywhere\n",
    "    openai_model = \"gpt-3.5-turbo\"\n",
    "\n",
    "\n",
    "    # Constructor    \n",
    "    def __init__(self):\n",
    "        self.apikey = self.fetch_api_key()\n",
    "\n",
    "\n",
    "    # Method to get API key\n",
    "    def fetch_api_key(self):\n",
    "        # In here would be all the code required to fetch the api key ...\n",
    "        return os.environ.get(\"OPENAI_API_KEY\")\n",
    "\n",
    "\n",
    "    # Method to take list of sentences and return summarized/average single sentence\n",
    "    def average_sentences(self, list_of_sentences):\n",
    "        # Instantiate the client\n",
    "        client = OpenAI(api_key=self.apikey)\n",
    "\n",
    "        # Write prompt to chatGPT to execute our task\n",
    "        prompt = \"Here is a list of multiple sentences that I want you to summarize and rewrite as a single sentence that is roughly the same length as the input sentences. The sentences are separated by newline characters \\n as follows: {sentences}\"\n",
    "        prompt = prompt.format(sentences = \"\\n\".join(list_of_sentences))\n",
    "\n",
    "        # Make request to chat GPT\n",
    "        completion = client.chat.completions.create(\n",
    "            model=self.openai_model,\n",
    "            messages=[\n",
    "                {\"role\": \"system\", \"content\": \"You are an assistant that is able to read several sentences and then combine them into a single summarized sentence. The sentences will be sent to you with a newline character \\n separating them. You will return a single sentence.\"},\n",
    "                {\"role\": \"user\", \"content\": prompt}\n",
    "            ]\n",
    "        )\n",
    "\n",
    "        # Get the summarized sentence output from Chat GPT\n",
    "        summarized_sentence = completion.choices[0].message.content\n",
    "\n",
    "        # Close the client\n",
    "        client.close()\n",
    "\n",
    "        return summarized_sentence\n",
    "\n",
    "    # Method to summarize a piece of text\n",
    "    def summarize_text(self, input_text):\n",
    "        # Instantiate the client\n",
    "        client = OpenAI(api_key=self.apikey)\n",
    "\n",
    "\n",
    "        # Make request to chat GPT\n",
    "        completion = client.chat.completions.create(\n",
    "            model=self.openai_model,\n",
    "            messages=[\n",
    "                {\"role\": \"system\", \"content\": \"You are an assistant that is able to read a piece of text and summarize it. Your summary will be 10 sentences or less.\"},\n",
    "                {\"role\": \"user\", \"content\": \"Here is the text to be summarized below the newline character.\\n {text}\".format(text=input_text)}\n",
    "            ]\n",
    "        )\n",
    "\n",
    "        # Get the summary of the inptu text output from Chat GPT\n",
    "        summary_output = completion.choices[0].message.content\n",
    "\n",
    "        # Close the client\n",
    "        client.close()\n",
    "\n",
    "        return summary_output        \n",
    "\n",
    "\n",
    "    # Method to consolidated job titles\n",
    "    def consolidate_job_titles(self, job_titles):\n",
    "        # Instantiate the client\n",
    "        client = OpenAI(api_key=self.apikey)\n",
    "\n",
    "        # Write prompt\n",
    "        prompt = \"Here is the list of job titles separated by newline characters \\n for you to combine and consolidate down into a single job title that represents the entire list. \\n {list_of_titles}\"\n",
    "        prompt = prompt.format(list_of_titles = job_titles)\n",
    "\n",
    "        # Make request to chat GPT\n",
    "        completion = client.chat.completions.create(\n",
    "            model=self.openai_model,\n",
    "            messages=[\n",
    "                {\"role\": \"system\", \"content\": \"You are an assistant that can read a list of job titles which are all the same job title but are written slightly differently with different variations and possibly with typos. You are an expert at reading the list of job titles (with all their variations) and returning back a single job title that represents the entire input group.\"},\n",
    "                {\"role\": \"user\", \"content\": prompt}\n",
    "            ]\n",
    "        )\n",
    "\n",
    "        # Get the summary of the inptu text output from Chat GPT\n",
    "        consolidated_job_title = completion.choices[0].message.content\n",
    "\n",
    "        # Close the client\n",
    "        client.close()\n",
    "\n",
    "        return consolidated_job_title     "
   ]
  },
  {
   "cell_type": "code",
   "execution_count": 7,
   "metadata": {},
   "outputs": [],
   "source": [
    "gpt_summarizer = TextSummarizer()"
   ]
  },
  {
   "cell_type": "code",
   "execution_count": 8,
   "metadata": {},
   "outputs": [
    {
     "name": "stdout",
     "output_type": "stream",
     "text": [
      "I enjoy the incredible smoothness and beauty of the way this amazing car glides effortlessly across the road.\n"
     ]
    }
   ],
   "source": [
    "avg_sentence = gpt_summarizer.average_sentences([\n",
    "    'I love the way the car drives.', \n",
    "    'The car drives so smoothly.', \n",
    "    'The car glides across the road effortlessly.', \n",
    "    'This car is amazing.', \n",
    "    'The car is sleek and beautiful.'\n",
    "])\n",
    "\n",
    "print(avg_sentence)"
   ]
  },
  {
   "cell_type": "code",
   "execution_count": 9,
   "metadata": {},
   "outputs": [],
   "source": [
    "input_text = \"\"\"\n",
    "Wait, start at the beginning. Of everything.\n",
    "The Big Bang theory says that the universe came into being from a single, unimaginably hot and dense point (aka, a singularity) more than 13 billion years ago. It didn’t occur in an already existing space. Rather, it initiated the expansion—and cooling—of space itself.\n",
    "\n",
    "Why stand behind this theory?\n",
    "It accounts for many of the things astronomers see through ground- and space-based telescopes. It explains why other galaxies are moving away from us as space continues to expand. It accounts for a faint glow seen everywhere in the universe. (The glow is the leftover heat from the universe’s birth, now cooled to just a few degrees above absolute zero.) In short, it’s a remarkably powerful and elegant explanation of how the observable universe came to be.\n",
    "\n",
    "Anything else?\n",
    "The theory accounts for the creation of the lightest elements in the universe—hydrogen, helium, and lithium—from which all heavier elements were forged in stars and supernovas. An extension of the Big Bang, known as cosmic inflation, even explains why the universe is so homogeneous (evenly composed) and how galaxies are distributed across space.\n",
    "\n",
    "Cosmic inflation? Sounds bad.\n",
    "Not that kind of inflation. Many features of today’s universe make sense if space underwent an extraordinary expansion very early in its history. According to inflation theory, the universe expanded dramatically a tiny fraction of a second after the Big Bang, driven by fantastic quantities of energy contained in space itself. After this period of inflation, the universe continued to expand and cool, but at a far slower pace.\n",
    "\n",
    "Inflation stretched space out so quickly that it became extremely uniform. But space is not completely homogeneous. Small fluctuations in the density of matter present in the very early universe were massively amplified during inflation. These density fluctuations eventually created the large-scale structure of the universe, including great sheets, bubbles, and clusters of galaxies.\n",
    "\n",
    "That’s the start. What about how the universe will end?\n",
    "The concept of a Big Bang doesn’t indicate whether the universe will continue to expand and cool or whether it will eventually contract to another super-hot singularity, perhaps restarting the entire cycle. The ultimate fate of the universe likely depends on the properties of two mysterious phenomena known as dark matter and dark energy. Further study of both could reveal whether the universe will end in fire—or ice.\n",
    "\n",
    "Dark what now?\n",
    "All familiar matter—Earth, the rest of the solar system, stars, galaxies, and interstellar gas—accounts for only about one-sixth of the mass of the universe. Scientists can see the effects of the rest of the universe’s mass, which they call dark matter. Its presence in galaxies makes them rotate more quickly than if only normal matter were there, and high concentrations of it noticeably bend light coming from far away. But its nature remains a mystery.\n",
    "\n",
    "So what is it?\n",
    "Dark matter may consist of elementary particles created in the Big Bang but not yet detected on Earth. One reason physicists want to build more powerful particle accelerators is to search for these missing particles.\n",
    "\n",
    "Even more mysterious than dark matter is a force known as dark energy.\n",
    "\n",
    "Why do I hear Darth Vader breathing?\n",
    "This isn’t science fiction. Observations of distant supernovae suggest that space is permeated by an energy—called dark energy—that pushes objects apart, just as two positive electric charges repel each other. This mysterious entity, which accounts for more than 70% of the energy content of the universe, may be related to the energy that caused inflation.\n",
    "\n",
    "But today virtually nothing is known about what dark energy is or how it exerts its effects on matter. Explaining it may require entirely new concepts of space and time.\n",
    "\n",
    "How have astronomers learned about the early universe?\n",
    "When astronomers look through a telescope, they are looking back in time. They see the Andromeda galaxy, the nearest major galaxy to ours, not as it is today but as it was more than 2 million years ago, because that’s how long it has taken the galaxy’s light to travel through space to Earth.\n",
    "\n",
    "Other galaxies are much farther away in space and time. The Hubble Space Telescope can see galaxies that are more than 13 billion years old and formed not long after the Big Bang. Observations have been made of the cosmic microwave background, the faint glow left over from the Big Bang, that help to get a picture of what the early universe was like, especially before those first stars formed.\n",
    "\n",
    "Where do we go from here?\n",
    "Astronomers are now planning a suite of new space- and ground-based telescopes and smaller-scale equipment and research. With these tools, they plan to study dark matter and dark energy, the black holes at the center of galaxies, the formation of planets like Earth around other stars, and many other aspects of our astonishing universe.\n",
    "\"\"\"\n",
    "\n",
    "summarized_output_text = gpt_summarizer.summarize_text(input_text)"
   ]
  },
  {
   "cell_type": "code",
   "execution_count": 10,
   "metadata": {},
   "outputs": [
    {
     "name": "stdout",
     "output_type": "stream",
     "text": [
      "4951\n"
     ]
    }
   ],
   "source": [
    "print(len(input_text))\n"
   ]
  },
  {
   "cell_type": "code",
   "execution_count": 11,
   "metadata": {},
   "outputs": [
    {
     "name": "stdout",
     "output_type": "stream",
     "text": [
      "524\n"
     ]
    }
   ],
   "source": [
    "print(len(summarized_output_text))\n"
   ]
  },
  {
   "cell_type": "code",
   "execution_count": 12,
   "metadata": {},
   "outputs": [
    {
     "data": {
      "text/plain": [
       "0.10583720460513028"
      ]
     },
     "execution_count": 12,
     "metadata": {},
     "output_type": "execute_result"
    }
   ],
   "source": [
    "len(summarized_output_text)/len(input_text)\n"
   ]
  },
  {
   "cell_type": "code",
   "execution_count": 13,
   "metadata": {},
   "outputs": [
    {
     "name": "stdout",
     "output_type": "stream",
     "text": [
      "The Big Bang theory explains the universe's origin from a dense point over 13 billion years ago, initiating space expansion and cooling. It accounts for astronomical observations and the creation of elements like hydrogen and helium. Cosmic inflation theory clarifies the universe's homogeneity and galaxy distribution. Dark matter and dark energy remain mysterious, influencing the universe's fate and structure. New telescopes and research aim to study these phenomena further, as well as black holes and planet formation.\n"
     ]
    }
   ],
   "source": [
    "print(summarized_output_text)\n"
   ]
  },
  {
   "cell_type": "code",
   "execution_count": null,
   "metadata": {},
   "outputs": [],
   "source": []
  }
 ],
 "metadata": {
  "kernelspec": {
   "display_name": "cos333",
   "language": "python",
   "name": "python3"
  },
  "language_info": {
   "codemirror_mode": {
    "name": "ipython",
    "version": 3
   },
   "file_extension": ".py",
   "mimetype": "text/x-python",
   "name": "python",
   "nbconvert_exporter": "python",
   "pygments_lexer": "ipython3",
   "version": "3.11.7"
  }
 },
 "nbformat": 4,
 "nbformat_minor": 2
}
